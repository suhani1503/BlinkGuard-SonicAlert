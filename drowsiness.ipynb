{
 "cells": [
  {
   "cell_type": "code",
   "execution_count": null,
   "metadata": {},
   "outputs": [],
   "source": [
    "import cv2\n",
    "import imutils\n",
    "from imutils import face_utils\n",
    "import dlib\n",
    "from scipy.spatial import distance\n"
   ]
  },
  {
   "cell_type": "code",
   "execution_count": null,
   "metadata": {},
   "outputs": [],
   "source": [
    "cap = cv2.VideoCapture(0)"
   ]
  },
  {
   "cell_type": "code",
   "execution_count": null,
   "metadata": {},
   "outputs": [],
   "source": [
    "from google.colab.patches import cv2_imshow\n",
    "import cv2\n",
    "import imutils\n",
    "from imutils import face_utils\n",
    "import dlib\n",
    "from scipy.spatial import distance\n",
    "from pygame import mixer\n",
    "\n",
    "mixer.init()\n",
    "mixer.music.load(\"/content/drive/MyDrive/Drowsiness Detection/music.wav\")\n",
    "\n",
    "def eye_aspect_ratio(eye):\n",
    "  A = distance.euclidean(eye[1],eye[5])\n",
    "  B = distance.euclidean(eye[2],eye[4])\n",
    "  C = distance.euclidean(eye[0],eye[3])\n",
    "  ear = (A+B)/(2.0*C)\n",
    "  return ear\n",
    "thresh = 0.25\n",
    "flag=0 #frame count\n",
    "frame_check = 20\n",
    "\n",
    "(lStart, lEnd) = face_utils.FACIAL_LANDMARKS_68_IDXS['left_eye']\n",
    "(rStart, rEnd) = face_utils.FACIAL_LANDMARKS_68_IDXS['right_eye']\n",
    "detect = dlib.get_frontal_face_detector()\n",
    "predict = dlib.shape_predictor(\"/content/drive/MyDrive/Drowsiness Detection/shape_predictor_68_face_landmarks (1).dat\")\n",
    "cap = cv2.VideoCapture(0)\n",
    "\n",
    "while True:\n",
    "  ret, frame = cap.read()\n",
    "  frame = imutils.resize(frame, width = 450)\n",
    "  gray = cv2.cvtColor(frame, cv2.COLOR_BGR2GRAY)\n",
    "  subjects = detect(gray, 0)\n",
    "  for subject in subjects:\n",
    "    shape = predict(gray,subjects)\n",
    "    shape = face_utils.shape_to_np(shape)\n",
    "    leftEye = shape[lStart:lEnd]\n",
    "    rightEye = shape[rStart:rEnd]\n",
    "    leftEar = eye_aspect_ratio(leftEye)\n",
    "    rightEar = eye_aspect_ratio(rightEye)\n",
    "    ear = (leftEar + rightEar)/2.0\n",
    "    leftEyeHull = cv2.convexHull(leftEye)\n",
    "    rightEyeHull = cv2.convexHull(rightEye)\n",
    "    cv2.drawContours (frame, [leftEyeHull], -1, (0, 255, 0), 1)\n",
    "    cv2.drawContours (frame, [rightEyeHull], -1, (0, 255, 0), 1)\n",
    "    if ear<thresh:\n",
    "      flag+=1\n",
    "      print(flag)\n",
    "      if flag>=frame_check:\n",
    "        cv2.putText(frame,\"****ALERT****\", (10,30), cv2.FONT_HERSHEY_SIMPLEX, 0.7, (0,0,255), 2)\n",
    "        cv2.putText(frame,\"****ALERT****\", (10,325), cv2.FONT_HERSHEY_SIMPLEX, 0.7, (0,0,255), 2)\n",
    "        mixer.music.play()\n",
    "      else:\n",
    "        flag = 0 \n",
    "\n",
    "  cv2.imshow(\"Frame\",frame)\n",
    "  if cv2.waitKey(1) & 0xFF == ord(\"q\"):\n",
    "    break\n",
    "cv2.destroyAllWindows()\n",
    "cap.release()"
   ]
  },
  {
   "cell_type": "code",
   "execution_count": null,
   "metadata": {},
   "outputs": [],
   "source": []
  }
 ],
 "metadata": {
  "kernelspec": {
   "display_name": "venv",
   "language": "python",
   "name": "python3"
  },
  "language_info": {
   "name": "python",
   "version": "3.10.9"
  }
 },
 "nbformat": 4,
 "nbformat_minor": 2
}
